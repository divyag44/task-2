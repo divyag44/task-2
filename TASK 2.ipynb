{
 "cells": [
  {
   "cell_type": "markdown",
   "id": "4f72c3f1-16a0-4fa0-8f72-0bd9c16779a8",
   "metadata": {},
   "source": [
    "### Q1. You are writing code for a company. The requirement of the company is that you create a python function that will check whether the password entered by the user is correct or not. The function should take the password as input and return the string “Valid Password” if the entered password follows the below-given password guidelines else it should return “Invalid Password”. \n",
    "#### Note: 1. The Password should contain at least two uppercase letters and at least two lowercase letters.\n",
    "2. The Password should contain at least a number and three special characters.\n",
    "3. The length of the password should be 10 characters long."
   ]
  },
  {
   "cell_type": "code",
   "execution_count": null,
   "id": "3040bf2a-0d8f-4a90-9572-75f2184330fc",
   "metadata": {},
   "outputs": [],
   "source": [
    "def password_checker(in_string):\n",
    "    lower_char, upper_char, number, special_char = 0, 0, 0, 0\n",
    "    if len(in_string) >= 6: ## checking if length of input passwod is equal to 10\n",
    "        for i in in_string:\n",
    "            if i.isupper(): ## checking for uppercase char and counting it.\n",
    "                upper_char+=1\n",
    "            elif i.islower(): ## checking for lowercase char and counting it.\n",
    "                lower_char+=1\n",
    "            elif i.isdigit(): ## checking for number and counting it.\n",
    "                number+=1\n",
    "            elif i in ['!', '@', '#', '$', '%', '&', '_']:  ## checking for special char and counting it.\n",
    "                special_char+=1\n",
    "    ### Validating the conditions given in problem statement\n",
    "    if upper_char>=2 and lower_char>=2 and number>=1 and special_char==1:\n",
    "        return \"Valid Password\"\n",
    "    else:\n",
    "        return \"Invalid Password\""
   ]
  },
  {
   "cell_type": "code",
   "execution_count": 94,
   "id": "7d14adad-eaf6-4435-bbec-25d5f6ab72aa",
   "metadata": {},
   "outputs": [
    {
     "name": "stdout",
     "output_type": "stream",
     "text": [
      "Invalid Password\n"
     ]
    }
   ],
   "source": [
    "\"\"\"import re\n",
    "def check_password(password):\n",
    "    \n",
    "    if len(password) != 10:\n",
    "        return \"Invalid Password\"\n",
    "    \n",
    "    if len(re.findall(r'[A-Z]', password)) < 2:\n",
    "        return \"Invalid Password\"\n",
    "    \n",
    "    if len(re.findall(r'[a-z]', password)) < 2:\n",
    "        return \"Invalid Password\"\n",
    "    \n",
    "    if len(re.findall(r'\\d', password)) < 1 or len(re.findall(r'[!@#$%^&*]', password)) < 3:\n",
    "        return \"Invalid Password\"\n",
    "\n",
    "    return (\"Valid Password\")\n",
    "print(check_password(\"12jkfnAnnjn%^&&**\"))\"\"\""
   ]
  },
  {
   "cell_type": "markdown",
   "id": "3927887d-4e59-4307-982b-987a4dc0d8f9",
   "metadata": {},
   "source": [
    "### Q2. Solve the below-given questions using at least one of the following:\n",
    "1. Lambda functioJ\n",
    "2. Filter functioJ\n",
    "3. Map functioJ\n",
    "4. List ComprehensioI\n",
    "## B Check if the string starts with a particular letterY\n",
    "### B Check if the string is numericY\n",
    "### B Sort a list of tuples having fruit names and their quantity. [(\"mango\",99),(\"orange\",80), (\"grapes\", 1000)-\n",
    "B Find the squares of numbers from 1 to 10Y\n",
    "B Find the cube root of numbers from 1 to 10Y\n",
    "B Check if a given number is evenY\n",
    "B Filter odd numbers from the given list.\n",
    "[1,2,3,4,5,6,7,8,9,10-\n",
    "B Sort a list of integers into positive and negative integers lists.\n",
    "[1,2,3,4,5,6,-1,-2,-3,-4,-5,0]"
   ]
  },
  {
   "cell_type": "code",
   "execution_count": 25,
   "id": "8ad24315-682d-4be6-8e9f-287d6e22e2c5",
   "metadata": {},
   "outputs": [
    {
     "name": "stdout",
     "output_type": "stream",
     "text": [
      "List of numbers:\n",
      "[1, 2, 3, 4, 5, 6, 7, 8, 9, 10]\n",
      "\n",
      "Square of every number of the provided list:\n",
      "[1, 4, 9, 16, 25, 36, 49, 64, 81, 100]\n",
      "\n",
      "Cube of every number of the provided list:\n",
      "[1, 8, 27, 64, 125, 216, 343, 512, 729, 1000]\n"
     ]
    }
   ],
   "source": [
    "#1\n",
    "numbers = [1, 2, 3, 4, 5,6,7,8,9,10]\n",
    "print(\"List of numbers:\")\n",
    "print(numbers)\n",
    "print(\"\\nSquare of every number of the provided list:\")\n",
    "square_numbers = list(map(lambda x: x ** 2, numbers))\n",
    "print(square_numbers)\n",
    "print(\"\\nCube of every number of the provided list:\")\n",
    "cube_numbers = list(map(lambda x: x ** 3, numbers))\n",
    "print(cube_numbers)"
   ]
  },
  {
   "cell_type": "code",
   "execution_count": 26,
   "id": "eac38aa5-8152-45ee-bc5c-dfe152c3c0a1",
   "metadata": {},
   "outputs": [
    {
     "name": "stdout",
     "output_type": "stream",
     "text": [
      "List of numbers:\n",
      "[11, 22, 33, 44, 55, 66, 77, 88, 99, 100]\n",
      "\n",
      "List of even numbers:\n",
      "[22, 44, 66, 88, 100]\n",
      "\n",
      "List Odd numbers:\n",
      "[11, 33, 55, 77, 99]\n"
     ]
    }
   ],
   "source": [
    "#2\n",
    "numbers = [11, 22, 33, 44, 55, 66, 77, 88, 99, 100]\n",
    "print(\"List of numbers:\")\n",
    "print(numbers)\n",
    "print(\"\\nList of even numbers:\")\n",
    "evenNumbers = list(filter(lambda x: x%2 == 0, numbers))\n",
    "print(evenNumbers)\n",
    "print(\"\\nList Odd numbers:\")\n",
    "oddNumbers = list(filter(lambda x: x%2 != 0, numbers))\n",
    "print(oddNumbers)"
   ]
  },
  {
   "cell_type": "code",
   "execution_count": 136,
   "id": "028857ed-79e8-46eb-a60c-292e60761fb7",
   "metadata": {},
   "outputs": [
    {
     "name": "stdout",
     "output_type": "stream",
     "text": [
      "The Number of lowercase characters found in the provided string:\n",
      "16\n",
      "The Number of uppercase characters found in the provided string:\n",
      "3\n"
     ]
    }
   ],
   "source": [
    "#3\n",
    "string=\"This is a Python Prgram\"\n",
    "lowerCaseCharCount=0\n",
    "upperCaseCharCount=0\n",
    "for i in string:\n",
    "      if(i.islower()):\n",
    "            lowerCaseCharCount=lowerCaseCharCount+1\n",
    "      elif(i.isupper()):\n",
    "            upperCaseCharCount=upperCaseCharCount+1\n",
    "print(\"The Number of lowercase characters found in the provided string:\")\n",
    "print(lowerCaseCharCount)\n",
    "print(\"The Number of uppercase characters found in the provided string:\")\n",
    "print(upperCaseCharCount)"
   ]
  },
  {
   "cell_type": "code",
   "execution_count": 140,
   "id": "9e3ad856-5628-4f09-8f78-c575035695f7",
   "metadata": {},
   "outputs": [
    {
     "name": "stdout",
     "output_type": "stream",
     "text": [
      "List of numbers:\n",
      "[1, 2, 3, 4, 5, 6, -1, -2, -3, -4, -5, 0]\n",
      "\n",
      "positive numbers list:\n",
      "[1, 2, 3, 4, 5, 6, 0]\n",
      "\n",
      "negative number list:\n",
      "[-1, -2, -3, -4, -5]\n"
     ]
    }
   ],
   "source": [
    "#example\n",
    "numbers = [1,2,3,4,5,6,-1,-2,-3,-4,-5,0]\n",
    "print(\"List of numbers:\")\n",
    "print(numbers)\n",
    "print(\"\\npositive numbers list:\")\n",
    "square_numbers = list(filter(lambda x: x >=0, numbers))\n",
    "print(square_numbers)\n",
    "print(\"\\nnegative number list:\")\n",
    "cube_numbers = list(filter(lambda x: x<0, numbers))\n",
    "print(cube_numbers)"
   ]
  },
  {
   "cell_type": "code",
   "execution_count": 145,
   "id": "2282c9e4-1817-414e-8e3b-a0755ecd51ea",
   "metadata": {},
   "outputs": [
    {
     "name": "stdout",
     "output_type": "stream",
     "text": [
      "[('grapes', 1000), ('mango', 99), ('orange', 80)]\n"
     ]
    }
   ],
   "source": [
    "#Sort a list of tuples having fruit names and their quantity. [(\"mango\",99),(\"orange\",80), (\"grapes\", 1000)\n",
    "list=(\"mango\",99),(\"orange\",80), (\"grapes\", 1000)\n",
    "sorted_list = sorted(list)\n",
    "print(sorted_list)\n"
   ]
  }
 ],
 "metadata": {
  "kernelspec": {
   "display_name": "Python 3 (ipykernel)",
   "language": "python",
   "name": "python3"
  },
  "language_info": {
   "codemirror_mode": {
    "name": "ipython",
    "version": 3
   },
   "file_extension": ".py",
   "mimetype": "text/x-python",
   "name": "python",
   "nbconvert_exporter": "python",
   "pygments_lexer": "ipython3",
   "version": "3.10.8"
  }
 },
 "nbformat": 4,
 "nbformat_minor": 5
}
